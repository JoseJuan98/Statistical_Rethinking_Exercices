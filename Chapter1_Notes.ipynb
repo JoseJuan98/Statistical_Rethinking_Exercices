{
 "cells": [
  {
   "cell_type": "markdown",
   "metadata": {
    "collapsed": true,
    "pycharm": {
     "name": "#%% md\n"
    }
   },
   "source": [
    "# Chapter 1 Notes - The Golem of Prague\n",
    "\n",
    "## Summary of ideas\n",
    "\n",
    "* Analogy of scientific models with the Golem of Prague\n",
    "* Statistics should be seen as a set of design principles and constraints that produces a\n",
    "great diversity of specialized applications, like engineering.\n",
    "* Statistical inference's goal is not to test null hypothesis, because:\n",
    "    * Models are not hypothesis\n",
    "    * Data measurements matters\n",
    "* \"Science advances by falsifying hypotheses\", Karl Popper. It's common\n",
    "among scientists but not among philosophers of science, it's false (as proven before),\n",
    "but it helps to open the eyes to know how statistics works.\n",
    "* Statistical models expresses associations among variables, so to make one it's needed to\n",
    "derive the expected frequency distribution of some quantity - \"statistics\" - from the casual model.\n",
    "*\n",
    "\n",
    "\n",
    "\n",
    "## Details\n",
    "### Golem of Prague\n",
    "\n",
    "Decision tree, or flowchart, for selecting an appropriate statistical procedure.\n",
    "\n",
    "![Decision Tree St Models](img/1_PragueGolem.png)\n",
    "\n",
    "\n",
    "No statistical tool does anything on its own to address the basic problem\n",
    "of inferring causes from evidence. Statistical golems do not understand cause and effect.\n",
    "They only understand association. Without our guidance and skepticism, pre-manufactured\n",
    "golems may do nothing useful at all. Worse, they might wreck Prague.\n",
    "\n",
    "Rather than idealized angels of reason, scientific models are powerful clay\n",
    "robots without intent of their own. Sometimes their unyielding logic reveals\n",
    "implications previously hidden to their designers. These implications can\n",
    "be priceless discoveries, or they may produce silly and dangerous behavior.\n",
    "\n",
    "It's a triumph of statistical science that there are now so many diverse models,\n",
    "each useful in a particular context. Viewed this way, statistics is neither mathematics\n",
    "nor a science, but rather a branch of engineering. And like engineering, a common set of\n",
    "design principles and constraints produces a great diversity of specialized applications.\n"
   ]
  },
  {
   "cell_type": "markdown",
   "source": [
    "## Rethinking statistics\n",
    "\n",
    "What researchers need is some unified theory of model engineering, a set of principles for\n",
    "designing, building, and refining special-purpose statistical procedures. Every major branch\n",
    "of statistical philosophy possesses such a unified theory. But the theory is never taught in\n",
    "introductory—and often not even in advanced—courses. So there are benefits in **rethinking\n",
    "statistical inference as a set of strategies**, instead of a set of pre-made tools.\n",
    "\n",
    "If you don’t understand how the model processes information, then you can’t interpret the\n",
    "model’s output. This requires knowing the statistical model in greater detail than is\n",
    "customary, and it requires doing the computations the hard way, at least until you are\n",
    " wise enough to use the push-button solutions.\n",
    "\n",
    "Understanding any individual model is not enough,\n",
    "in these cases. Instead, we need some statistical epistemology, an appreciation of how\n",
    "statistical models relate to hypotheses and the natural mechanisms of interest.\n",
    "\n",
    "Deductive falsification never works, the scientific method cannot\n",
    "be reduced to a statistical procedure, and so our statistical methods should not pretend. Statistical evidence is part of the hot mess that is science, with all of its combat and egotism and\n",
    "mutual coercion. If you believe that science does often work, then learning that it\n",
    "doesn’t work via falsification shouldn’t change your mind. But it might help you do better\n",
    "science, because it will open your eyes to many legitimately useful functions of statistical\n",
    "golems."
   ],
   "metadata": {
    "collapsed": false,
    "pycharm": {
     "name": "#%% md\n"
    }
   }
  },
  {
   "cell_type": "markdown",
   "source": [
    "### Hypothesis are not models\n",
    "\n",
    "![1_2_Hypothesis](/img/1_2_Hypothesis.png)\n",
    "\n",
    "Relations among hypotheses (left), detailed process models\n",
    "(middle), and statistical models (right), illustrated by the example of “neutral” models of evolution. Hypotheses (H) are typically vague, and so correspond to more than one process model (P). Statistical evaluations of hy-\n",
    "potheses rarely address process models directly. Instead, they rely upon\n",
    "statistical models (M), all of which reflect only some aspects of the process\n",
    "models. As a result, relations are multiple in both directions: Hypotheses\n",
    "do not imply unique models, and models do not imply unique hypotheses.\n",
    "This fact greatly complicates statistical inference.\n",
    "\n",
    "Unfortunately, statistical models do not embody specific causal relationships. A\n",
    "statistical model expresses associations among variables. As a result, many different process\n",
    "models may be consistent with any single statistical mode\n",
    "\n",
    "How do we get a statistical model from a causal model? One way is to derive the expected frequency distribution of some quantity—a “statistic”—from the causal model."
   ],
   "metadata": {
    "collapsed": false,
    "pycharm": {
     "name": "#%% md\n"
    }
   }
  }
 ],
 "metadata": {
  "kernelspec": {
   "display_name": "Python 3",
   "language": "python",
   "name": "python3"
  },
  "language_info": {
   "codemirror_mode": {
    "name": "ipython",
    "version": 2
   },
   "file_extension": ".py",
   "mimetype": "text/x-python",
   "name": "python",
   "nbconvert_exporter": "python",
   "pygments_lexer": "ipython2",
   "version": "2.7.6"
  }
 },
 "nbformat": 4,
 "nbformat_minor": 0
}