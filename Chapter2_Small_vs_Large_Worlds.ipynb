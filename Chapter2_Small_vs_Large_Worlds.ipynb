{
 "cells": [
  {
   "cell_type": "markdown",
   "metadata": {
    "collapsed": true,
    "pycharm": {
     "name": "#%% md\n"
    }
   },
   "source": [
    "# Small Worlds vs Large Wolrds\n",
    "\n",
    "The **Small World** represents the scientific model itself, and the **Large World**\n",
    "represents the broader context in which one deploys a model.\n",
    "\n",
    "**Bayesian inference** is just counting and comparing of possibilities. Consider\n",
    "by analogy Jorge Luis Borges’ short story “The Garden of Forking Paths.”\n",
    "In order to make good inference about what actually happened, it helps to consider\n",
    " everything that could have happened. A Bayesian analysis is a garden of forking data,\n",
    " in which alternative sequences of events are cultivated.\n",
    "\n",
    "**The approach cannot guarantee a correct answer**, on large world terms. But it can\n",
    "guarantee the best possible answer, on small world terms, that could be derived\n",
    "from the information fed into it.\n",
    "\n",
    "The goal of the Bayesian approach is to figure out which of the conjectures for a\n",
    "certain context is **the most plausible**, given some evidence (data)."
   ]
  },
  {
   "cell_type": "markdown",
   "source": [
    "By comparing these counts, we have part of a solution\n",
    "for a way to rate the relative plausibility of each conjecture.\n",
    "But it’s only a part of a solution, because in order to compare these counts\n",
    "we first have to decide how many ways each conjecture could itself be realized.\n",
    "We might argue that when we have no reason to assume otherwise, we can just consider\n",
    " each conjecture equally plausible and compare the counts directly, **Principle of Indifference**.\n",
    " But often we do have reason to assume otherwise.\n",
    "\n",
    "> ***Principle of indifference***: When there is no reason to say that one conjecture is more plausible\n",
    "> than another, weigh all of the conjectures equally.\n",
    "\n",
    "To grasp a solution, suppose we’re willing to say each conjecture is equally plausible\n",
    "at the start. Then, we just compare the counts of ways\n",
    "in which each conjecture is compatible with the observed data. So, comparing them can suggest\n",
    "that ones are more plausible, than others. Since these are our initial counts, and\n",
    "probably they are going to update later, they are labeled **prior**.\n",
    "\n",
    "Then when we get more evidence or observations, we can update the conjectures' plausibility.\n",
    "Only if they new data is independent of the previous data,\n",
    "> To update the plausibility ***p*** of  a conjecture ***C*** that is produced in ***W<sub>prior</sub>***\n",
    "> ways based on previous data ***D<sub>prior</sub>*** after providing more evidence ***D<sub>new</sub>***\n",
    "> is as follows:\n",
    ">\n",
    "> $\\Large P_c \\propto W_{prior} \\times W_{new} $\n",
    "\n",
    "Why multiplication? Because it's a shortcut for counting all possible paths.\n",
    "\n"
   ],
   "metadata": {
    "collapsed": false,
    "pycharm": {
     "name": "#%% md\n"
    }
   }
  },
  {
   "cell_type": "markdown",
   "source": [
    "## From counting to probability\n",
    "\n",
    "It’s hard to use these counts though, so almost always they are standardized in a way that\n",
    "transforms them into probabilities.\n",
    "\n",
    "The meaning would be the same, it’s just the relative values that matter. Second,\n",
    "as the amount of data grows, the counts will very quickly grow very large and become difficult\n",
    "to manipulate.\n",
    "\n",
    "Then, for any value p can take, we judge the plausibility of that value p\n",
    "as proportional to the number of ways it can get through the garden of forking data.\n",
    "Finally, we construct probabilities by standardizing the plausibility so that the sum of\n",
    "the plausibilities for all possible conjectures will be one. All you need to do in order to stan-\n",
    "dardize is to add up all of the products, one for each value p can take, and then divide each\n",
    "product by the sum of products:"
   ],
   "metadata": {
    "collapsed": false,
    "pycharm": {
     "name": "#%% md\n"
    }
   }
  },
  {
   "cell_type": "markdown",
   "source": [
    "\\begin{align*}\n",
    "\\Large\n",
    "p_c={\\frac {W_{new} \\times p_{c_{prior}}}{\\sum products}}\n",
    "\\end{align*}"
   ],
   "metadata": {
    "collapsed": false
   }
  }
 ],
 "metadata": {
  "kernelspec": {
   "display_name": "Python 3",
   "language": "python",
   "name": "python3"
  },
  "language_info": {
   "codemirror_mode": {
    "name": "ipython",
    "version": 2
   },
   "file_extension": ".py",
   "mimetype": "text/x-python",
   "name": "python",
   "nbconvert_exporter": "python",
   "pygments_lexer": "ipython2",
   "version": "2.7.6"
  }
 },
 "nbformat": 4,
 "nbformat_minor": 0
}