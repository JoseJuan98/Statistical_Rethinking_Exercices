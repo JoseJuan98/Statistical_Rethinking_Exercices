{
 "cells": [
  {
   "cell_type": "markdown",
   "metadata": {
    "pycharm": {
     "name": "#%% md\n"
    }
   },
   "source": [
    "# Chapter 2 - Small Worlds vs Large Wolrds\n",
    "\n",
    "The **Small World** represents the scientific model itself, and the **Large World**\n",
    "represents the broader context in which one deploys a model.\n",
    "\n",
    "**Bayesian inference** is just counting and comparing of possibilities. Consider\n",
    "by analogy Jorge Luis Borges’ short story “The Garden of Forking Paths.”\n",
    "In order to make good inference about what actually happened, it helps to consider\n",
    " everything that could have happened. A Bayesian analysis is a garden of forking data,\n",
    " in which alternative sequences of events are cultivated.\n",
    "\n",
    "**The approach cannot guarantee a correct answer**, on large world terms. But it can\n",
    "guarantee the best possible answer, on small world terms, that could be derived\n",
    "from the information fed into it.\n",
    "\n",
    "The goal of the Bayesian approach is to figure out which of the conjectures for a\n",
    "certain context is **the most plausible**, given some evidence (data)."
   ]
  },
  {
   "cell_type": "markdown",
   "metadata": {
    "pycharm": {
     "name": "#%% md\n"
    }
   },
   "source": [
    "By comparing these counts, we have part of a solution\n",
    "for a way to rate the relative plausibility of each conjecture.\n",
    "But it’s only a part of a solution, because in order to compare these counts\n",
    "we first have to decide how many ways each conjecture could itself be realized.\n",
    "We might argue that when we have no reason to assume otherwise, we can just consider\n",
    " each conjecture equally plausible and compare the counts directly, **Principle of Indifference**.\n",
    " But often we do have reason to assume otherwise.\n",
    "\n",
    "> ***Principle of indifference***: When there is no reason to say that one conjecture is more plausible\n",
    "> than another, weigh all of the conjectures equally.\n",
    "\n",
    "To grasp a solution, suppose we’re willing to say each conjecture is equally plausible\n",
    "at the start. Then, we just compare the counts of ways\n",
    "in which each conjecture is compatible with the observed data. So, comparing them can suggest\n",
    "that ones are more plausible, than others. Since these are our initial counts, and\n",
    "probably they are going to update later, they are labeled **prior**.\n",
    "\n",
    "Then when we get more evidence or observations, we can update the conjectures' plausibility.\n",
    "Only if they new data is independent of the previous data,\n",
    "> To update the plausibility ***p*** of  a conjecture ***C*** that is produced in ***W<sub>prior</sub>***\n",
    "> ways based on previous data ***D<sub>prior</sub>*** after providing more evidence ***D<sub>new</sub>***\n",
    "> is as follows:\n",
    ">\n",
    "> $\\Large P_c \\propto W_{prior} \\times W_{new} $\n",
    "\n",
    "Why multiplication? Because it's a shortcut for counting all possible paths.\n",
    "\n"
   ]
  },
  {
   "cell_type": "markdown",
   "metadata": {
    "pycharm": {
     "name": "#%% md\n"
    }
   },
   "source": [
    "## From counting to probability\n",
    "\n",
    "It’s hard to use these counts though, so almost always they are standardized in a way that\n",
    "transforms them into probabilities.\n",
    "\n",
    "The meaning would be the same, it’s just the relative values that matter. Second,\n",
    "as the amount of data grows, the counts will very quickly grow very large and become difficult\n",
    "to manipulate.\n",
    "\n",
    "Then, for any value p can take, we judge the plausibility of that value p\n",
    "as proportional to the number of ways it can get through the garden of forking data.\n",
    "Finally, we construct probabilities by standardizing the plausibility so that the sum of\n",
    "the plausibilities for all possible conjectures will be one. All you need to do in order to\n",
    "standardize is to add up all of the products, one for each value p can take, and then divide each\n",
    "product by the sum of products:"
   ]
  },
  {
   "cell_type": "markdown",
   "metadata": {},
   "source": [
    "Being ***p*** the proportion of a feature,\n",
    "\n",
    "\\begin{align*}\n",
    "\\Large P_p={\\frac {W_{{p}_{new}} \\times P_{prior}}{\\sum \\small products}}\n",
    "\\end{align*}"
   ]
  },
  {
   "cell_type": "markdown",
   "metadata": {
    "pycharm": {
     "name": "#%% md\n"
    }
   },
   "source": [
    "## Example 2.1\n",
    "There is a bag with four marbles, and we only know that they are <span style=\"color:blue\">blue [B]</span> and\n",
    "<span style=\"color:grey\">white [W]</span>. A marble is picked from the bag putting it back after finishing, after\n",
    "doing this four times we got the sequence [<span style=\"color:blue\">B</span> <span style=\"color:grey\">W</span> <span style=\"color:blue\">B</span>] .\n",
    "\n",
    "So if ***p*** is defined as the proportion of marbles that are blue, for [<span style=\"color:blue\">B </span><span style=\"color:grey\">W W W</span>]\n",
    "with ***D<sub>new</sub>*** = [<span style=\"color:blue\">B</span> <span style=\"color:grey\">W</span> <span style=\"color:blue\">B</span>],\n",
    "we can say that:\n",
    "\n",
    "> plausability of ***p*** after ***D<sub>new</sub>*** $\\propto$ was ***p*** can produce\n",
    "> ***D<sub>new</sub>*** $\\times$ prior plausability of ***p***\n",
    "\n",
    "The above just means that for any value p can take, we judge the plausibility of that value p\n",
    "as proportional to the number of ways it can get through the garden of forking data.\n",
    "\n",
    "| Composition | p (prop.) | Ways (W) | Plausability (P) |\n",
    "| --- | --- | --- | --- |\n",
    "| [ <span style=\"color:grey\">W W W W</span> ] | 0 | 0 | 0 |\n",
    "| [ <span style=\"color:blue\">B </span><span style=\"color:grey\">W W W</span> ] | 0.25 | 3 | 0.15 |\n",
    "| [ <span style=\"color:blue\">B B</span><span style=\"color:grey\"> W W</span> ] | 0.5 | 8 | 0.4 |\n",
    "| [ <span style=\"color:blue\">B B B </span><span style=\"color:grey\">W</span> ] | 0.75 | 9 | 0.45 |\n",
    "| [ <span style=\"color:blue\">B B B B</span> ] | 1 | 0 | 0 |\n",
    "\n",
    "* A conjectured proportion of blue marbles, p, is usually called a ***parameter*** value.\n",
    "It’s just a way of indexing possible explanations of the data.\n",
    "* The relative number of ways that a value p can produce the data is usually called\n",
    "a ***likelihood***. It is derived by enumerating all the possible data sequences that\n",
    "could have happened and then eliminating those sequences inconsistent with the\n",
    "data.\n",
    "* The prior plausibility of any specific p is usually called the ***prior probability***.\n",
    "* The new, updated plausibility of any specific p is usually called the ***posterior\n",
    "probability***.\n",
    "## Libraries import"
   ]
  },
  {
   "cell_type": "code",
   "execution_count": 1,
   "metadata": {
    "collapsed": false,
    "jupyter": {
     "outputs_hidden": false
    },
    "pycharm": {
     "name": "#%%\n"
    }
   },
   "outputs": [],
   "source": [
    "import numpy as np\n",
    "from scipy import stats\n",
    "import random\n",
    "import matplotlib.pyplot as plt\n",
    "%matplotlib inline\n",
    "np.set_printoptions(suppress=True)"
   ]
  },
  {
   "cell_type": "markdown",
   "metadata": {
    "pycharm": {
     "name": "#%% md\n"
    }
   },
   "source": [
    "*2.1.1- How to calculate this plausibilities of the example 2.1 in Python?*"
   ]
  },
  {
   "cell_type": "code",
   "execution_count": 2,
   "metadata": {
    "collapsed": false,
    "jupyter": {
     "outputs_hidden": false
    },
    "pycharm": {
     "name": "#%%\n"
    }
   },
   "outputs": [
    {
     "data": {
      "text/plain": [
       "array([0.  , 0.15, 0.4 , 0.45, 0.  ])"
      ]
     },
     "execution_count": 2,
     "metadata": {},
     "output_type": "execute_result"
    }
   ],
   "source": [
    "Ways=np.array([0,3,8,9,0])\n",
    "# Prior plausibility of p is 1 (it didn't change). So,\n",
    "Ways/Ways.sum()"
   ]
  },
  {
   "cell_type": "markdown",
   "metadata": {
    "pycharm": {
     "name": "#%% md\n"
    }
   },
   "source": [
    "## 2.1 Building a model\n",
    "By working with probabilities instead of raw counts, Bayesian inference is made much\n",
    "easier, but it looks much harder.\n",
    "\n",
    "To get the logic moving, we need to make assumptions, and these assumptions constitute\n",
    "the model. Designing a simple Bayesian model benefits from a design loop with three steps.\n",
    "1. Data story: Motivate the model by narrating how the data might arise.\n",
    "2. Update: Educate your model by feeding it the data.\n",
    "3. Evaluate: All statistical models require supervision, leading possibly to model revision."
   ]
  },
  {
   "cell_type": "markdown",
   "metadata": {
    "pycharm": {
     "name": "#%% md\n"
    }
   },
   "source": [
    "### 2.1.1. A data story\n",
    "\n",
    "Bayesian data analysis usually means producing a story for how the data came to be. This story may be descriptive, specifying associations that can be used to\n",
    "predict outcomes, given observations. Or it may be causal, a theory of how some events produce other events.\n",
    "\n",
    "Typically, any story you intend to be causal may also be descriptive. But many descriptive stories are hard to interpret causally. But all data stories are complete,\n",
    "in the sense that they are sufficient for specifying an algorithm for simulating new data.\n",
    "\n",
    "### 2.1.2 Bayesian updating\n",
    "\n",
    "Using the evidence to decide among different possible conjectures, like the marbles on the bag previously. Each possible proportion may be more or less plausible, given the evidence.\n",
    "A Bayesian model begins with one set of plausibilities assigned to each of these possibilities.\n",
    "These are the prior plausibilities. Then it updates them in light of the data, to produce the\n",
    "posterior plausibilities. This updating process is a kind of learning, called ***Bayesian Updating***.\n",
    "\n",
    "Notice that every updated set of plausibilities becomes the initial plausibilities for the\n",
    "next observation. Every conclusion is the starting point for future inference. However, this\n",
    "updating process works backwards, as well as forwards.\n",
    "\n",
    "Given the final set of plausibilities, it is possible\n",
    "to mathematically divide out the observation, to infer the previous plausibility curve. So the\n",
    "data could be presented to your model in any order, or all at once even. In most cases, you\n",
    "will present the data all at once, for the sake of convenience. But it’s important to realize that\n",
    "this merely represents abbreviation of an ***Iterated Learning Process***."
   ]
  },
  {
   "cell_type": "markdown",
   "metadata": {
    "pycharm": {
     "name": "#%% md\n"
    }
   },
   "source": [
    "### 2.1.3 Evaluate\n",
    "The Bayesian model learns in a way that is demonstrably optimal, provided\n",
    "that the real, large world is accurately described by the model. This is to say that your\n",
    "Bayesian machine guarantees perfect inference, within the small world. No other way of\n",
    "using the available information, and beginning with the same state of information, could do\n",
    "better.\n",
    "\n",
    "However, the calculations may malfunction, so results always have to be checked. And if\n",
    "there are important differences between the model and reality, then there is no logical\n",
    "guarantee of large world performance. And even if the two worlds did match, any particular\n",
    "sample of data could still be misleading. So it’s worth keeping in mind at least two cautious principles:\n",
    "\n",
    "1. *First, the model’s certainty is no guarantee that the model is a good one.*\n",
    "2. *Supervise and critique your model’s work.*\n",
    "\n",
    "Moreover, models do not need to be exactly true in order to produce highly precise and useful inferences.\n",
    "This is because models are essentially information processing machines, and there are some surprising aspects of\n",
    "information that cannot be easily captured by framing the problem in terms of the truth of\n",
    "assumptions.\n",
    "\n",
    "Instead, the objective is to check the model’s adequacy for some purpose. This usually\n",
    "means asking and answering additional questions, beyond those that originally constructed\n",
    "the model. Both the questions and answers will depend upon the scientific context."
   ]
  },
  {
   "cell_type": "markdown",
   "metadata": {},
   "source": [
    "## 2.2 Components of the model\n",
    "Consider three different kinds of things we counted in the previous sections.\n",
    "1. The number of ways each conjecture could produce an observation\n",
    "2. The accumulated number of ways each conjecture could produce the entire data\n",
    "3. The initial plausibility of each conjectured cause of the data\n",
    "\n",
    "Each of these things has a direct analog in conventional probability theory. And so the usual way we build a statistical model involves\n",
    "choosing distributions and devices for each that represent the relative numbers of ways things can happen.\n",
    "\n",
    "\n",
    "1. Variables. Variables are just symbols that can take on different values. In a scientific context, \n",
    "variables include things we wish to infer, such as proportions and rates, as well as things we might observe, the data. The first variable is our target of inference, *p*, *e.g. the proportion of marbles in the bag*. This variable cannot be observed. Unobserved variables are usually called ***PARAMETERS***. But while *p* itself is unobserved, we can infer it from the other variables."
   ]
  },
  {
   "cell_type": "markdown",
   "metadata": {},
   "source": [
    "> *When we observe a sample of variables, we need to say how likely that exact sample is, out of the universe of potential samples of the same length.*"
   ]
  },
  {
   "cell_type": "markdown",
   "metadata": {},
   "source": [
    "2. Definitions. Once we have all the variables we need to define each, we build a model that relates the variables to one to another. The\n",
    "goal is count all the ways the data could arise, given the assumptions. \n",
    "    1. ***Observed variables***. Define how plausible any combination of this variables is. Each specific value of ***p*** corresponds to aspecific plausibility of the data. In conventional statistics, a distribution function assigned to an observed variable is usually landcalled a likelihood. That term has special meaning in non-Bayesian statistics, however.\n",
    "    2. ***Unobserved variables***. The distributions we assign to the observed variables typically have their own variables. In the binomial below, there is $p$, the probability of sampling water. Since p is not observed, we usually call it a ***PARAMETER***. or every parameter you intend your Bayesian machine to consider, you must provide a\n",
    "distribution of prior plausibility, its ***PRIOR***.\n",
    "\n",
    "\n"
   ]
  },
  {
   "cell_type": "markdown",
   "metadata": {},
   "source": [
    "### 2.2.1 Prior\n",
    "        \n",
    "When you have a previous estimate to provide, that can become the prior. As a result, each estimate becomes the prior for the next step.\n",
    "But this doesn’t resolve the problem of providing a prior, because at the dawn of time, when $N = 0$, the machine still had an initial state of information for the parameter $p$: *a flat line specifying equal plausibility for every possible value*.\n",
    "\n",
    "*So where do priors come from?* They are both engineering assumptions, chosen to help the machine learn, and scientific assumptions, chosen to reflect what we know about a phenomenon. The flat prior is very common, but it is hardly ever the best prior.\n",
    "\n",
    "There is a school of Bayesian inference that emphasizes choosing priors based upon the personal beliefs of the analyst. 47 While this subjective Bayesian approach thrives in some statistics and philosophy and economics programs, it is rare in the sciences. Within Bayesian data analysis in the natural and social sciences, the prior is considered to be just part of the model. As such it should be chosen, evaluated, and revised just like all of the other components of the model. In practice, the subjectivist and the non-subjectivist will often analyze data in nearly the same way.\n",
    "\n",
    "Beyond all of the above, there’s no law mandating we use only one prior. If you don’t have a strong argument for any particular prior, then try different ones. Because the prior is an assumption, it should be interrogated like other assumptions: by altering it and checking how sensitive inference is to the assumption."
   ]
  },
  {
   "cell_type": "markdown",
   "metadata": {},
   "source": [
    "## Example 2.2\n",
    "Suppose you have a globe representing our planet, the Earth. This version of the world is small enough to hold in your hands. You are curious how much of the surface is covered in water. You adopt the following strategy: You will toss the globe up in the air. When you catch it, you will record whether or not the surface under your right index finger is water or land. Then you toss the globe up in the air again and repeat the procedure. This strategy generates a sequence of surface samples from the globe, where *W* indicates water and *L* indicates land.\n",
    "\n",
    "In this case, once we add our assumptions that (1) every toss is independent of the other tosses and (2) the probability of W is the same on every toss, probability theory provides a unique answer, known as the binomial distribution. This is the common “coin tossing” distribution. And so the probability of observing W waters and L lands, with a probability p of water on each toss, is:"
   ]
  },
  {
   "cell_type": "markdown",
   "metadata": {},
   "source": [
    "\\begin{align*}\n",
    "\\Large Pr(W, L|p)={\\frac {(W + L)!}{W!L!}}p^W(1-p)^L\n",
    "\\end{align*}\n",
    "\n",
    "> The counts of “water” W and “land’ L are distributed binomially, with prob-\n",
    "ability p of “water” on each toss."
   ]
  },
  {
   "cell_type": "markdown",
   "metadata": {},
   "source": [
    "### Binom probability mass function \n",
    "\n",
    "\\begin{align*}\n",
    "\\Large f(k)={{n}\\choose{k}}p^k(1-p)^{n-k},\n",
    "\\end{align*}\n",
    "\n",
    "\\begin{align*}  k \\in \\{0, 1,..., n\\} , 0 \\leq p \\leq  1 \n",
    "\\end{align*}"
   ]
  },
  {
   "cell_type": "markdown",
   "metadata": {},
   "source": [
    "> Being $n$ the size of the sample or the *#samples*, $k$ the #times that a value has been selected in the sample, and $p$ the probability of that variable.\n",
    "\n",
    "Binom takes $n$ and $p$ as shape parameters, where $p$ is the probability of a single success $1 - p$ and is the probability of a single failure.\n",
    "\n",
    "The probability mass function above is defined in the “standardized” form. To shift distribution use the loc parameter. Specifically, ```binom.pmf(k, n, p, loc)``` is identically equivalent to ```binom.pmf(k - loc, n, p)```"
   ]
  },
  {
   "cell_type": "markdown",
   "metadata": {},
   "source": [
    "*How compute compute the likelihood of the data—six W’s in nine tosses—under any value of p with?*"
   ]
  },
  {
   "cell_type": "code",
   "execution_count": 3,
   "metadata": {},
   "outputs": [
    {
     "data": {
      "text/plain": [
       "0.16406250000000006"
      ]
     },
     "execution_count": 3,
     "metadata": {},
     "output_type": "execute_result"
    }
   ],
   "source": [
    "stats.binom.pmf(k=6, n=9, p=0.5)"
   ]
  },
  {
   "cell_type": "markdown",
   "metadata": {},
   "source": [
    "That number is the relative number of ways to get 6 water (in our globe-tossing model, holding $p$ at 0.5 and $N = W + L$ at nine."
   ]
  },
  {
   "cell_type": "code",
   "execution_count": null,
   "metadata": {},
   "outputs": [],
   "source": []
  },
  {
   "cell_type": "code",
   "execution_count": null,
   "metadata": {},
   "outputs": [],
   "source": []
  },
  {
   "cell_type": "code",
   "execution_count": null,
   "metadata": {},
   "outputs": [],
   "source": []
  },
  {
   "cell_type": "code",
   "execution_count": null,
   "metadata": {},
   "outputs": [],
   "source": []
  },
  {
   "cell_type": "code",
   "execution_count": null,
   "metadata": {},
   "outputs": [],
   "source": []
  },
  {
   "cell_type": "markdown",
   "metadata": {},
   "source": [
    "## Example 2.3"
   ]
  },
  {
   "cell_type": "code",
   "execution_count": 15,
   "metadata": {},
   "outputs": [],
   "source": [
    "data = ['W','L','W','W','W','L','W','L','W']\n",
    "# TODO LATER: it can be check the likelihood of each\n",
    "\n",
    "k,n = 0, len(data)\n",
    "p = 0.5\n",
    "x, y= [], []\n",
    "for d in data:\n",
    "    n+=1\n",
    "    if d == 'W':\n",
    "        k+=1\n",
    "        y.append(stats.binom.pmf(k=k, n=n, p=p))\n",
    "        x.append(k/n)\n",
    "    #print(k,n)"
   ]
  },
  {
   "cell_type": "code",
   "execution_count": 22,
   "metadata": {},
   "outputs": [
    {
     "data": {
      "image/png": "[encoded data removed]",
      "text/plain": [
       "<Figure size 432x288 with 1 Axes>"
      ]
     },
     "metadata": {
      "needs_background": "light"
     },
     "output_type": "display_data"
    }
   ],
   "source": [
    "#n, p = 10, 0.5\n",
    "#x = np.arange(stats.binom.ppf(0.01, n, p), \n",
    "#              stats.binom.ppf(1, n, p))\n",
    "\n",
    "fig, ax = plt.subplots(1, 1)\n",
    "#ax.plot(x, stats.binom.pmf(x, n, p), label='binom pmf')\n",
    "ax.plot(y, x,'x-', label='binom pmf')\n",
    "plt.title('Likelihood of water')\n",
    "plt.xlabel('proportion of water')\n",
    "plt.ylabel('plausability');\n",
    "#ax.vlines(x, 0, stats.binom.pmf(x, n, p), colors='b', lw=5, alpha=0.5);"
   ]
  },
  {
   "cell_type": "code",
   "execution_count": null,
   "metadata": {},
   "outputs": [],
   "source": []
  },
  {
   "cell_type": "code",
   "execution_count": null,
   "metadata": {},
   "outputs": [],
   "source": []
  },
  {
   "cell_type": "code",
   "execution_count": null,
   "metadata": {},
   "outputs": [],
   "source": []
  },
  {
   "cell_type": "code",
   "execution_count": null,
   "metadata": {},
   "outputs": [],
   "source": []
  },
  {
   "cell_type": "code",
   "execution_count": null,
   "metadata": {},
   "outputs": [],
   "source": []
  },
  {
   "cell_type": "code",
   "execution_count": null,
   "metadata": {},
   "outputs": [],
   "source": []
  },
  {
   "cell_type": "code",
   "execution_count": null,
   "metadata": {},
   "outputs": [],
   "source": []
  },
  {
   "cell_type": "code",
   "execution_count": null,
   "metadata": {},
   "outputs": [],
   "source": []
  },
  {
   "cell_type": "code",
   "execution_count": null,
   "metadata": {},
   "outputs": [],
   "source": []
  },
  {
   "cell_type": "code",
   "execution_count": null,
   "metadata": {},
   "outputs": [],
   "source": []
  },
  {
   "cell_type": "code",
   "execution_count": null,
   "metadata": {},
   "outputs": [],
   "source": []
  }
 ],
 "metadata": {
  "kernelspec": {
   "display_name": "Python 3",
   "language": "python",
   "name": "python3"
  },
  "language_info": {
   "codemirror_mode": {
    "name": "ipython",
    "version": 3
   },
   "file_extension": ".py",
   "mimetype": "text/x-python",
   "name": "python",
   "nbconvert_exporter": "python",
   "pygments_lexer": "ipython3",
   "version": "3.8.3"
  }
 },
 "nbformat": 4,
 "nbformat_minor": 4
}
